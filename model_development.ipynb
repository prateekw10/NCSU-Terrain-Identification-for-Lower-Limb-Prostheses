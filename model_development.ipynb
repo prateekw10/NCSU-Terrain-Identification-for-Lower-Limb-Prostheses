{
  "cells": [
    {
      "cell_type": "code",
      "execution_count": 1,
      "metadata": {
        "colab": {
          "base_uri": "https://localhost:8080/"
        },
        "id": "ls3DygNCSjUh",
        "outputId": "2805da6d-a4ac-48a9-fe33-64787d29dd2a"
      },
      "outputs": [
        {
          "output_type": "stream",
          "name": "stdout",
          "text": [
            "Mounted at /content/drive\n"
          ]
        }
      ],
      "source": [
        "############## Loading drive for Colab to have access ##############\n",
        "from google.colab import drive\n",
        "drive.mount('/content/drive')"
      ]
    },
    {
      "cell_type": "code",
      "execution_count": 2,
      "metadata": {
        "colab": {
          "base_uri": "https://localhost:8080/"
        },
        "id": "3pwgVLfkABNo",
        "outputId": "454bdc2c-b829-4b82-ff48-97aa50f5ecc9"
      },
      "outputs": [
        {
          "output_type": "stream",
          "name": "stdout",
          "text": [
            "/content/drive/Shared drives/Colab Work/TrainingData\n"
          ]
        }
      ],
      "source": [
        "cd '/content/drive/Shared drives/Colab Work/TrainingData'"
      ]
    },
    {
      "cell_type": "code",
      "execution_count": 3,
      "metadata": {
        "id": "TwFSbNIr7RPU",
        "colab": {
          "base_uri": "https://localhost:8080/"
        },
        "outputId": "fa565fdb-0b3c-4717-a655-cca5d7daef75"
      },
      "outputs": [
        {
          "output_type": "stream",
          "name": "stdout",
          "text": [
            "cuda\n"
          ]
        }
      ],
      "source": [
        "############## Importing all required libraries ##############\n",
        "import pandas as pd\n",
        "import numpy as np\n",
        "import os\n",
        "import datetime\n",
        "\n",
        "import matplotlib.pyplot as plt\n",
        "import seaborn as sns\n",
        "%matplotlib inline\n",
        "\n",
        "import torch\n",
        "import torch.nn as nn\n",
        "import torch.nn.functional as F\n",
        "from torchsummary import summary\n",
        "from torch.optim.lr_scheduler import ReduceLROnPlateau\n",
        "from sklearn.model_selection import train_test_split\n",
        "from sklearn.metrics import accuracy_score, f1_score, classification_report, confusion_matrix\n",
        "from scipy.stats import mode\n",
        "\n",
        "device = 'cuda' if torch.cuda.is_available() else 'cpu'\n",
        "print(device)"
      ]
    },
    {
      "cell_type": "code",
      "execution_count": 4,
      "metadata": {
        "id": "xfKl0LA4AhQL",
        "colab": {
          "base_uri": "https://localhost:8080/"
        },
        "outputId": "ba0c048f-55f1-4aa9-da2c-0e3215cf946a"
      },
      "outputs": [
        {
          "output_type": "stream",
          "name": "stdout",
          "text": [
            "Number of sessions: 29\n"
          ]
        }
      ],
      "source": [
        "############## Getting a list of all the sessions ##############\n",
        "dirname = '.'\n",
        "\n",
        "X_data_files = []\n",
        "Y_label_files = []\n",
        "X_time_files = []\n",
        "Y_time_files = []\n",
        "\n",
        "for files in os.listdir(dirname):\n",
        "    if files.endswith('__x.csv'):\n",
        "      X_data_files.append(files)\n",
        "    elif files.endswith('__y.csv'):\n",
        "      Y_label_files.append(files)\n",
        "    elif files.endswith('__x_time.csv'):\n",
        "      X_time_files.append(files)\n",
        "    elif files.endswith('__y_time.csv'):\n",
        "      Y_time_files.append(files)\n",
        "\n",
        "X_data_files.sort()\n",
        "Y_label_files.sort()\n",
        "X_time_files.sort()\n",
        "Y_time_files.sort()\n",
        "\n",
        "assert len(X_data_files) == len(X_time_files), \"X features files dont match with time files\"\n",
        "assert len(Y_label_files) == len(Y_time_files), \"Y label files dont match with time files\"\n",
        "\n",
        "print(\"Number of sessions:\",len(X_data_files))"
      ]
    },
    {
      "cell_type": "markdown",
      "metadata": {
        "id": "rf-JRV8R5f7D"
      },
      "source": [
        "# Data Pre-processing"
      ]
    },
    {
      "cell_type": "code",
      "execution_count": 6,
      "metadata": {
        "id": "sycl4fEE44bv",
        "colab": {
          "base_uri": "https://localhost:8080/",
          "height": 466
        },
        "outputId": "d5ccc3e4-8352-42f4-c26e-9e1acadda8a8"
      },
      "outputs": [
        {
          "output_type": "stream",
          "name": "stdout",
          "text": [
            "\n",
            "Total number of session ids:  29\n",
            "List of unique labels:  [0 1 2 3] \n",
            "\n"
          ]
        },
        {
          "output_type": "display_data",
          "data": {
            "text/plain": [
              "                         x_acc  y_acc  z_acc  x_gyro  y_gyro  z_gyro  \\\n",
              "time                                                                   \n",
              "1970-01-01 00:01:25.275   0.01  -0.40  -0.10   -0.59   -0.18    0.92   \n",
              "1970-01-01 00:01:25.300   0.25  -0.02  -0.43   -0.69   -0.26    0.96   \n",
              "1970-01-01 00:01:25.325   0.31   0.17  -0.41   -0.88   -0.56    1.04   \n",
              "1970-01-01 00:01:25.350   0.36   0.05  -0.31   -1.04   -0.69    0.95   \n",
              "1970-01-01 00:01:25.375   0.44   1.29   0.85   -1.31   -0.96    0.85   \n",
              "1970-01-01 00:01:25.400   0.08   1.78   1.12   -1.37   -1.33    0.83   \n",
              "1970-01-01 00:01:25.425  -0.67   1.58   1.45   -1.05   -1.46    1.28   \n",
              "1970-01-01 00:01:25.450  -1.28   0.64   1.64   -0.45   -1.32    1.58   \n",
              "1970-01-01 00:01:25.475  -1.21  -1.43   2.20    0.13    0.04    2.22   \n",
              "1970-01-01 00:01:25.500  -0.33  -1.20   0.47    0.43    1.07    2.14   \n",
              "\n",
              "                                session  label  \n",
              "time                                            \n",
              "1970-01-01 00:01:25.275  subject_001_01      1  \n",
              "1970-01-01 00:01:25.300  subject_001_01      1  \n",
              "1970-01-01 00:01:25.325  subject_001_01      1  \n",
              "1970-01-01 00:01:25.350  subject_001_01      1  \n",
              "1970-01-01 00:01:25.375  subject_001_01      1  \n",
              "1970-01-01 00:01:25.400  subject_001_01      0  \n",
              "1970-01-01 00:01:25.425  subject_001_01      0  \n",
              "1970-01-01 00:01:25.450  subject_001_01      0  \n",
              "1970-01-01 00:01:25.475  subject_001_01      0  \n",
              "1970-01-01 00:01:25.500  subject_001_01      0  "
            ],
            "text/html": [
              "\n",
              "  <div id=\"df-f077bc1d-fd11-40b4-88df-ec98ed9dc8ca\">\n",
              "    <div class=\"colab-df-container\">\n",
              "      <div>\n",
              "<style scoped>\n",
              "    .dataframe tbody tr th:only-of-type {\n",
              "        vertical-align: middle;\n",
              "    }\n",
              "\n",
              "    .dataframe tbody tr th {\n",
              "        vertical-align: top;\n",
              "    }\n",
              "\n",
              "    .dataframe thead th {\n",
              "        text-align: right;\n",
              "    }\n",
              "</style>\n",
              "<table border=\"1\" class=\"dataframe\">\n",
              "  <thead>\n",
              "    <tr style=\"text-align: right;\">\n",
              "      <th></th>\n",
              "      <th>x_acc</th>\n",
              "      <th>y_acc</th>\n",
              "      <th>z_acc</th>\n",
              "      <th>x_gyro</th>\n",
              "      <th>y_gyro</th>\n",
              "      <th>z_gyro</th>\n",
              "      <th>session</th>\n",
              "      <th>label</th>\n",
              "    </tr>\n",
              "    <tr>\n",
              "      <th>time</th>\n",
              "      <th></th>\n",
              "      <th></th>\n",
              "      <th></th>\n",
              "      <th></th>\n",
              "      <th></th>\n",
              "      <th></th>\n",
              "      <th></th>\n",
              "      <th></th>\n",
              "    </tr>\n",
              "  </thead>\n",
              "  <tbody>\n",
              "    <tr>\n",
              "      <th>1970-01-01 00:01:25.275</th>\n",
              "      <td>0.01</td>\n",
              "      <td>-0.40</td>\n",
              "      <td>-0.10</td>\n",
              "      <td>-0.59</td>\n",
              "      <td>-0.18</td>\n",
              "      <td>0.92</td>\n",
              "      <td>subject_001_01</td>\n",
              "      <td>1</td>\n",
              "    </tr>\n",
              "    <tr>\n",
              "      <th>1970-01-01 00:01:25.300</th>\n",
              "      <td>0.25</td>\n",
              "      <td>-0.02</td>\n",
              "      <td>-0.43</td>\n",
              "      <td>-0.69</td>\n",
              "      <td>-0.26</td>\n",
              "      <td>0.96</td>\n",
              "      <td>subject_001_01</td>\n",
              "      <td>1</td>\n",
              "    </tr>\n",
              "    <tr>\n",
              "      <th>1970-01-01 00:01:25.325</th>\n",
              "      <td>0.31</td>\n",
              "      <td>0.17</td>\n",
              "      <td>-0.41</td>\n",
              "      <td>-0.88</td>\n",
              "      <td>-0.56</td>\n",
              "      <td>1.04</td>\n",
              "      <td>subject_001_01</td>\n",
              "      <td>1</td>\n",
              "    </tr>\n",
              "    <tr>\n",
              "      <th>1970-01-01 00:01:25.350</th>\n",
              "      <td>0.36</td>\n",
              "      <td>0.05</td>\n",
              "      <td>-0.31</td>\n",
              "      <td>-1.04</td>\n",
              "      <td>-0.69</td>\n",
              "      <td>0.95</td>\n",
              "      <td>subject_001_01</td>\n",
              "      <td>1</td>\n",
              "    </tr>\n",
              "    <tr>\n",
              "      <th>1970-01-01 00:01:25.375</th>\n",
              "      <td>0.44</td>\n",
              "      <td>1.29</td>\n",
              "      <td>0.85</td>\n",
              "      <td>-1.31</td>\n",
              "      <td>-0.96</td>\n",
              "      <td>0.85</td>\n",
              "      <td>subject_001_01</td>\n",
              "      <td>1</td>\n",
              "    </tr>\n",
              "    <tr>\n",
              "      <th>1970-01-01 00:01:25.400</th>\n",
              "      <td>0.08</td>\n",
              "      <td>1.78</td>\n",
              "      <td>1.12</td>\n",
              "      <td>-1.37</td>\n",
              "      <td>-1.33</td>\n",
              "      <td>0.83</td>\n",
              "      <td>subject_001_01</td>\n",
              "      <td>0</td>\n",
              "    </tr>\n",
              "    <tr>\n",
              "      <th>1970-01-01 00:01:25.425</th>\n",
              "      <td>-0.67</td>\n",
              "      <td>1.58</td>\n",
              "      <td>1.45</td>\n",
              "      <td>-1.05</td>\n",
              "      <td>-1.46</td>\n",
              "      <td>1.28</td>\n",
              "      <td>subject_001_01</td>\n",
              "      <td>0</td>\n",
              "    </tr>\n",
              "    <tr>\n",
              "      <th>1970-01-01 00:01:25.450</th>\n",
              "      <td>-1.28</td>\n",
              "      <td>0.64</td>\n",
              "      <td>1.64</td>\n",
              "      <td>-0.45</td>\n",
              "      <td>-1.32</td>\n",
              "      <td>1.58</td>\n",
              "      <td>subject_001_01</td>\n",
              "      <td>0</td>\n",
              "    </tr>\n",
              "    <tr>\n",
              "      <th>1970-01-01 00:01:25.475</th>\n",
              "      <td>-1.21</td>\n",
              "      <td>-1.43</td>\n",
              "      <td>2.20</td>\n",
              "      <td>0.13</td>\n",
              "      <td>0.04</td>\n",
              "      <td>2.22</td>\n",
              "      <td>subject_001_01</td>\n",
              "      <td>0</td>\n",
              "    </tr>\n",
              "    <tr>\n",
              "      <th>1970-01-01 00:01:25.500</th>\n",
              "      <td>-0.33</td>\n",
              "      <td>-1.20</td>\n",
              "      <td>0.47</td>\n",
              "      <td>0.43</td>\n",
              "      <td>1.07</td>\n",
              "      <td>2.14</td>\n",
              "      <td>subject_001_01</td>\n",
              "      <td>0</td>\n",
              "    </tr>\n",
              "  </tbody>\n",
              "</table>\n",
              "</div>\n",
              "      <button class=\"colab-df-convert\" onclick=\"convertToInteractive('df-f077bc1d-fd11-40b4-88df-ec98ed9dc8ca')\"\n",
              "              title=\"Convert this dataframe to an interactive table.\"\n",
              "              style=\"display:none;\">\n",
              "        \n",
              "  <svg xmlns=\"http://www.w3.org/2000/svg\" height=\"24px\"viewBox=\"0 0 24 24\"\n",
              "       width=\"24px\">\n",
              "    <path d=\"M0 0h24v24H0V0z\" fill=\"none\"/>\n",
              "    <path d=\"M18.56 5.44l.94 2.06.94-2.06 2.06-.94-2.06-.94-.94-2.06-.94 2.06-2.06.94zm-11 1L8.5 8.5l.94-2.06 2.06-.94-2.06-.94L8.5 2.5l-.94 2.06-2.06.94zm10 10l.94 2.06.94-2.06 2.06-.94-2.06-.94-.94-2.06-.94 2.06-2.06.94z\"/><path d=\"M17.41 7.96l-1.37-1.37c-.4-.4-.92-.59-1.43-.59-.52 0-1.04.2-1.43.59L10.3 9.45l-7.72 7.72c-.78.78-.78 2.05 0 2.83L4 21.41c.39.39.9.59 1.41.59.51 0 1.02-.2 1.41-.59l7.78-7.78 2.81-2.81c.8-.78.8-2.07 0-2.86zM5.41 20L4 18.59l7.72-7.72 1.47 1.35L5.41 20z\"/>\n",
              "  </svg>\n",
              "      </button>\n",
              "      \n",
              "  <style>\n",
              "    .colab-df-container {\n",
              "      display:flex;\n",
              "      flex-wrap:wrap;\n",
              "      gap: 12px;\n",
              "    }\n",
              "\n",
              "    .colab-df-convert {\n",
              "      background-color: #E8F0FE;\n",
              "      border: none;\n",
              "      border-radius: 50%;\n",
              "      cursor: pointer;\n",
              "      display: none;\n",
              "      fill: #1967D2;\n",
              "      height: 32px;\n",
              "      padding: 0 0 0 0;\n",
              "      width: 32px;\n",
              "    }\n",
              "\n",
              "    .colab-df-convert:hover {\n",
              "      background-color: #E2EBFA;\n",
              "      box-shadow: 0px 1px 2px rgba(60, 64, 67, 0.3), 0px 1px 3px 1px rgba(60, 64, 67, 0.15);\n",
              "      fill: #174EA6;\n",
              "    }\n",
              "\n",
              "    [theme=dark] .colab-df-convert {\n",
              "      background-color: #3B4455;\n",
              "      fill: #D2E3FC;\n",
              "    }\n",
              "\n",
              "    [theme=dark] .colab-df-convert:hover {\n",
              "      background-color: #434B5C;\n",
              "      box-shadow: 0px 1px 3px 1px rgba(0, 0, 0, 0.15);\n",
              "      filter: drop-shadow(0px 1px 2px rgba(0, 0, 0, 0.3));\n",
              "      fill: #FFFFFF;\n",
              "    }\n",
              "  </style>\n",
              "\n",
              "      <script>\n",
              "        const buttonEl =\n",
              "          document.querySelector('#df-f077bc1d-fd11-40b4-88df-ec98ed9dc8ca button.colab-df-convert');\n",
              "        buttonEl.style.display =\n",
              "          google.colab.kernel.accessAllowed ? 'block' : 'none';\n",
              "\n",
              "        async function convertToInteractive(key) {\n",
              "          const element = document.querySelector('#df-f077bc1d-fd11-40b4-88df-ec98ed9dc8ca');\n",
              "          const dataTable =\n",
              "            await google.colab.kernel.invokeFunction('convertToInteractive',\n",
              "                                                     [key], {});\n",
              "          if (!dataTable) return;\n",
              "\n",
              "          const docLinkHtml = 'Like what you see? Visit the ' +\n",
              "            '<a target=\"_blank\" href=https://colab.research.google.com/notebooks/data_table.ipynb>data table notebook</a>'\n",
              "            + ' to learn more about interactive tables.';\n",
              "          element.innerHTML = '';\n",
              "          dataTable['output_type'] = 'display_data';\n",
              "          await google.colab.output.renderOutput(dataTable, element);\n",
              "          const docLink = document.createElement('div');\n",
              "          docLink.innerHTML = docLinkHtml;\n",
              "          element.appendChild(docLink);\n",
              "        }\n",
              "      </script>\n",
              "    </div>\n",
              "  </div>\n",
              "  "
            ]
          },
          "metadata": {}
        }
      ],
      "source": [
        "############## Merging spatial data with label data by using Upsampling ##############\n",
        "data_df = pd.DataFrame()\n",
        "subject_list_x = [name.removesuffix('__x_time.csv') for name in X_time_files]\n",
        "subject_list_y = [name.removesuffix('__y_time.csv') for name in Y_time_files]\n",
        "\n",
        "for idx, (sub_id_x, sub_id_y) in enumerate(zip(subject_list_x, subject_list_y)):\n",
        "\n",
        "    # Check that data from session being merged\n",
        "    if sub_id_x != sub_id_y:\n",
        "      print('Error: Different sessions being merged')\n",
        "      print('X_session:', sub_id_x)\n",
        "      print('Y_session:', sub_id_y)\n",
        "      break\n",
        "\n",
        "    # Reading X data and time\n",
        "    X_data = pd.read_csv('{id}__x.csv'.format(id=sub_id_x), names=['x_acc','y_acc','z_acc','x_gyro','y_gyro','z_gyro'], header=None)\n",
        "    X_time = pd.read_csv('{id}__x_time.csv'.format(id=sub_id_x), names=['time'], header=None)\n",
        "    assert X_data.shape[0] == X_time.shape[0], \"X data does not match with X time\"\n",
        "\n",
        "    # Normalize meauserments\n",
        "    X_data = X_data.apply(lambda iterator: ((iterator - iterator.mean())/(iterator.std())).round(2))\n",
        "    \n",
        "    # Concatenating time with x features\n",
        "    X = pd.concat([X_data, X_time], axis=1)\n",
        "    X['session'] = sub_id_x\n",
        "    X['time'] = X['time'].apply(lambda x: datetime.datetime.fromtimestamp(x))\n",
        "    X = X.set_index('time')\n",
        "\n",
        "    # Reading Y labels and time\n",
        "    Y_data = pd.read_csv('{id}__y.csv'.format(id=sub_id_y),names=['label'],header=None)\n",
        "    Y_time = pd.read_csv('{id}__y_time.csv'.format(id=sub_id_y),names=['time'],header=None)\n",
        "    assert Y_data.shape[0] == Y_time.shape[0], \"Y labels do not match with Y time\"\n",
        "\n",
        "    # Concatenating time with y labels\n",
        "    Y_time = Y_time + 0.005\n",
        "    Y = pd.concat([Y_data, Y_time],axis=1)\n",
        "    Y['time'] = Y['time'].apply(lambda x: datetime.datetime.fromtimestamp(x))\n",
        "    Y = Y.set_index('time')\n",
        "\n",
        "    # Merging X and Y based on nearest neighbor w.r.t. time\n",
        "    Y = Y.resample('25L').asfreq()\n",
        "    Y['label']= Y['label'].fillna(Y['label'].rolling(window=12, min_periods=1, center=True).apply(lambda x: x.mode()[0]))\n",
        "    merged_df = X.join(Y, how='inner')\n",
        "\n",
        "    # Join all rows of the different sessions\n",
        "    data_df = pd.concat([data_df, merged_df], axis=0)\n",
        "\n",
        "data_df['label'] = data_df['label'].astype('int')\n",
        "print(\"\\nTotal number of session ids: \", data_df['session'].nunique())\n",
        "print(\"List of unique labels: \", data_df.label.unique(), \"\\n\")\n",
        "display(data_df[3410:3420])\n"
      ]
    },
    {
      "cell_type": "code",
      "execution_count": 7,
      "metadata": {
        "id": "VDKU2Kp4Y0xY",
        "colab": {
          "base_uri": "https://localhost:8080/",
          "height": 363
        },
        "outputId": "1b03310b-a51d-4861-f8dd-42e77cb67b66"
      },
      "outputs": [
        {
          "output_type": "display_data",
          "data": {
            "text/plain": [
              "         x_acc      y_acc      z_acc    x_gyro    y_gyro    z_gyro  \\\n",
              "3411  1.200694   4.882500   5.689861 -1.906456 -0.276644  0.631750   \n",
              "3412  2.852627   7.634553   3.808437 -2.250398 -0.423067  0.662694   \n",
              "3413  3.248788   8.983196   3.931955 -2.883767 -0.936103  0.719250   \n",
              "3414  3.572963   8.157229   4.497856 -3.391945 -1.180111  0.654033   \n",
              "3415  4.109491  17.196160  11.086030 -4.253921 -1.650755  0.586575   \n",
              "3416  1.719249  20.793280  12.626550 -4.464584 -2.291167  0.567575   \n",
              "3417 -3.279081  19.315260  14.494720 -3.426666 -2.523541  0.887570   \n",
              "3418 -7.341888  12.483630  15.544230 -1.478647 -2.269522  1.104205   \n",
              "3419 -6.913432  -2.644415  18.751660  0.411298  0.106645  1.556774   \n",
              "3420 -1.064240  -0.978857   8.892290  1.419677  1.908619  1.500667   \n",
              "\n",
              "                        time  \n",
              "3411 1970-01-01 00:01:25.275  \n",
              "3412 1970-01-01 00:01:25.300  \n",
              "3413 1970-01-01 00:01:25.325  \n",
              "3414 1970-01-01 00:01:25.350  \n",
              "3415 1970-01-01 00:01:25.375  \n",
              "3416 1970-01-01 00:01:25.400  \n",
              "3417 1970-01-01 00:01:25.425  \n",
              "3418 1970-01-01 00:01:25.450  \n",
              "3419 1970-01-01 00:01:25.475  \n",
              "3420 1970-01-01 00:01:25.500  "
            ],
            "text/html": [
              "\n",
              "  <div id=\"df-33dd45a5-a382-4fd7-b301-0715093a14bc\">\n",
              "    <div class=\"colab-df-container\">\n",
              "      <div>\n",
              "<style scoped>\n",
              "    .dataframe tbody tr th:only-of-type {\n",
              "        vertical-align: middle;\n",
              "    }\n",
              "\n",
              "    .dataframe tbody tr th {\n",
              "        vertical-align: top;\n",
              "    }\n",
              "\n",
              "    .dataframe thead th {\n",
              "        text-align: right;\n",
              "    }\n",
              "</style>\n",
              "<table border=\"1\" class=\"dataframe\">\n",
              "  <thead>\n",
              "    <tr style=\"text-align: right;\">\n",
              "      <th></th>\n",
              "      <th>x_acc</th>\n",
              "      <th>y_acc</th>\n",
              "      <th>z_acc</th>\n",
              "      <th>x_gyro</th>\n",
              "      <th>y_gyro</th>\n",
              "      <th>z_gyro</th>\n",
              "      <th>time</th>\n",
              "    </tr>\n",
              "  </thead>\n",
              "  <tbody>\n",
              "    <tr>\n",
              "      <th>3411</th>\n",
              "      <td>1.200694</td>\n",
              "      <td>4.882500</td>\n",
              "      <td>5.689861</td>\n",
              "      <td>-1.906456</td>\n",
              "      <td>-0.276644</td>\n",
              "      <td>0.631750</td>\n",
              "      <td>1970-01-01 00:01:25.275</td>\n",
              "    </tr>\n",
              "    <tr>\n",
              "      <th>3412</th>\n",
              "      <td>2.852627</td>\n",
              "      <td>7.634553</td>\n",
              "      <td>3.808437</td>\n",
              "      <td>-2.250398</td>\n",
              "      <td>-0.423067</td>\n",
              "      <td>0.662694</td>\n",
              "      <td>1970-01-01 00:01:25.300</td>\n",
              "    </tr>\n",
              "    <tr>\n",
              "      <th>3413</th>\n",
              "      <td>3.248788</td>\n",
              "      <td>8.983196</td>\n",
              "      <td>3.931955</td>\n",
              "      <td>-2.883767</td>\n",
              "      <td>-0.936103</td>\n",
              "      <td>0.719250</td>\n",
              "      <td>1970-01-01 00:01:25.325</td>\n",
              "    </tr>\n",
              "    <tr>\n",
              "      <th>3414</th>\n",
              "      <td>3.572963</td>\n",
              "      <td>8.157229</td>\n",
              "      <td>4.497856</td>\n",
              "      <td>-3.391945</td>\n",
              "      <td>-1.180111</td>\n",
              "      <td>0.654033</td>\n",
              "      <td>1970-01-01 00:01:25.350</td>\n",
              "    </tr>\n",
              "    <tr>\n",
              "      <th>3415</th>\n",
              "      <td>4.109491</td>\n",
              "      <td>17.196160</td>\n",
              "      <td>11.086030</td>\n",
              "      <td>-4.253921</td>\n",
              "      <td>-1.650755</td>\n",
              "      <td>0.586575</td>\n",
              "      <td>1970-01-01 00:01:25.375</td>\n",
              "    </tr>\n",
              "    <tr>\n",
              "      <th>3416</th>\n",
              "      <td>1.719249</td>\n",
              "      <td>20.793280</td>\n",
              "      <td>12.626550</td>\n",
              "      <td>-4.464584</td>\n",
              "      <td>-2.291167</td>\n",
              "      <td>0.567575</td>\n",
              "      <td>1970-01-01 00:01:25.400</td>\n",
              "    </tr>\n",
              "    <tr>\n",
              "      <th>3417</th>\n",
              "      <td>-3.279081</td>\n",
              "      <td>19.315260</td>\n",
              "      <td>14.494720</td>\n",
              "      <td>-3.426666</td>\n",
              "      <td>-2.523541</td>\n",
              "      <td>0.887570</td>\n",
              "      <td>1970-01-01 00:01:25.425</td>\n",
              "    </tr>\n",
              "    <tr>\n",
              "      <th>3418</th>\n",
              "      <td>-7.341888</td>\n",
              "      <td>12.483630</td>\n",
              "      <td>15.544230</td>\n",
              "      <td>-1.478647</td>\n",
              "      <td>-2.269522</td>\n",
              "      <td>1.104205</td>\n",
              "      <td>1970-01-01 00:01:25.450</td>\n",
              "    </tr>\n",
              "    <tr>\n",
              "      <th>3419</th>\n",
              "      <td>-6.913432</td>\n",
              "      <td>-2.644415</td>\n",
              "      <td>18.751660</td>\n",
              "      <td>0.411298</td>\n",
              "      <td>0.106645</td>\n",
              "      <td>1.556774</td>\n",
              "      <td>1970-01-01 00:01:25.475</td>\n",
              "    </tr>\n",
              "    <tr>\n",
              "      <th>3420</th>\n",
              "      <td>-1.064240</td>\n",
              "      <td>-0.978857</td>\n",
              "      <td>8.892290</td>\n",
              "      <td>1.419677</td>\n",
              "      <td>1.908619</td>\n",
              "      <td>1.500667</td>\n",
              "      <td>1970-01-01 00:01:25.500</td>\n",
              "    </tr>\n",
              "  </tbody>\n",
              "</table>\n",
              "</div>\n",
              "      <button class=\"colab-df-convert\" onclick=\"convertToInteractive('df-33dd45a5-a382-4fd7-b301-0715093a14bc')\"\n",
              "              title=\"Convert this dataframe to an interactive table.\"\n",
              "              style=\"display:none;\">\n",
              "        \n",
              "  <svg xmlns=\"http://www.w3.org/2000/svg\" height=\"24px\"viewBox=\"0 0 24 24\"\n",
              "       width=\"24px\">\n",
              "    <path d=\"M0 0h24v24H0V0z\" fill=\"none\"/>\n",
              "    <path d=\"M18.56 5.44l.94 2.06.94-2.06 2.06-.94-2.06-.94-.94-2.06-.94 2.06-2.06.94zm-11 1L8.5 8.5l.94-2.06 2.06-.94-2.06-.94L8.5 2.5l-.94 2.06-2.06.94zm10 10l.94 2.06.94-2.06 2.06-.94-2.06-.94-.94-2.06-.94 2.06-2.06.94z\"/><path d=\"M17.41 7.96l-1.37-1.37c-.4-.4-.92-.59-1.43-.59-.52 0-1.04.2-1.43.59L10.3 9.45l-7.72 7.72c-.78.78-.78 2.05 0 2.83L4 21.41c.39.39.9.59 1.41.59.51 0 1.02-.2 1.41-.59l7.78-7.78 2.81-2.81c.8-.78.8-2.07 0-2.86zM5.41 20L4 18.59l7.72-7.72 1.47 1.35L5.41 20z\"/>\n",
              "  </svg>\n",
              "      </button>\n",
              "      \n",
              "  <style>\n",
              "    .colab-df-container {\n",
              "      display:flex;\n",
              "      flex-wrap:wrap;\n",
              "      gap: 12px;\n",
              "    }\n",
              "\n",
              "    .colab-df-convert {\n",
              "      background-color: #E8F0FE;\n",
              "      border: none;\n",
              "      border-radius: 50%;\n",
              "      cursor: pointer;\n",
              "      display: none;\n",
              "      fill: #1967D2;\n",
              "      height: 32px;\n",
              "      padding: 0 0 0 0;\n",
              "      width: 32px;\n",
              "    }\n",
              "\n",
              "    .colab-df-convert:hover {\n",
              "      background-color: #E2EBFA;\n",
              "      box-shadow: 0px 1px 2px rgba(60, 64, 67, 0.3), 0px 1px 3px 1px rgba(60, 64, 67, 0.15);\n",
              "      fill: #174EA6;\n",
              "    }\n",
              "\n",
              "    [theme=dark] .colab-df-convert {\n",
              "      background-color: #3B4455;\n",
              "      fill: #D2E3FC;\n",
              "    }\n",
              "\n",
              "    [theme=dark] .colab-df-convert:hover {\n",
              "      background-color: #434B5C;\n",
              "      box-shadow: 0px 1px 3px 1px rgba(0, 0, 0, 0.15);\n",
              "      filter: drop-shadow(0px 1px 2px rgba(0, 0, 0, 0.3));\n",
              "      fill: #FFFFFF;\n",
              "    }\n",
              "  </style>\n",
              "\n",
              "      <script>\n",
              "        const buttonEl =\n",
              "          document.querySelector('#df-33dd45a5-a382-4fd7-b301-0715093a14bc button.colab-df-convert');\n",
              "        buttonEl.style.display =\n",
              "          google.colab.kernel.accessAllowed ? 'block' : 'none';\n",
              "\n",
              "        async function convertToInteractive(key) {\n",
              "          const element = document.querySelector('#df-33dd45a5-a382-4fd7-b301-0715093a14bc');\n",
              "          const dataTable =\n",
              "            await google.colab.kernel.invokeFunction('convertToInteractive',\n",
              "                                                     [key], {});\n",
              "          if (!dataTable) return;\n",
              "\n",
              "          const docLinkHtml = 'Like what you see? Visit the ' +\n",
              "            '<a target=\"_blank\" href=https://colab.research.google.com/notebooks/data_table.ipynb>data table notebook</a>'\n",
              "            + ' to learn more about interactive tables.';\n",
              "          element.innerHTML = '';\n",
              "          dataTable['output_type'] = 'display_data';\n",
              "          await google.colab.output.renderOutput(dataTable, element);\n",
              "          const docLink = document.createElement('div');\n",
              "          docLink.innerHTML = docLinkHtml;\n",
              "          element.appendChild(docLink);\n",
              "        }\n",
              "      </script>\n",
              "    </div>\n",
              "  </div>\n",
              "  "
            ]
          },
          "metadata": {}
        }
      ],
      "source": [
        "############## Verify correct mapping of spatial data to label data ##############\n",
        "sub_id_x = 'subject_001_01'\n",
        "X_data = pd.read_csv('{id}__x.csv'.format(id=sub_id_x), names=['x_acc','y_acc','z_acc','x_gyro','y_gyro','z_gyro'], header=None)\n",
        "X_time = pd.read_csv('{id}__x_time.csv'.format(id=sub_id_x), names=['time'], header=None)\n",
        "X = pd.concat([X_data, X_time], axis=1)\n",
        "X['time'] = X['time'].apply(lambda x: datetime.datetime.fromtimestamp(x))\n",
        "display(X[3411:3421])"
      ]
    },
    {
      "cell_type": "code",
      "execution_count": 8,
      "metadata": {
        "id": "mDJgXy9-L13G",
        "colab": {
          "base_uri": "https://localhost:8080/",
          "height": 426
        },
        "outputId": "2a459dbd-7973-4761-a876-b01d4ed37b85"
      },
      "outputs": [
        {
          "output_type": "display_data",
          "data": {
            "text/plain": [
              "     label                    time\n",
              "848      1 1970-01-01 00:01:24.820\n",
              "849      1 1970-01-01 00:01:24.920\n",
              "850      1 1970-01-01 00:01:25.020\n",
              "851      1 1970-01-01 00:01:25.120\n",
              "852      1 1970-01-01 00:01:25.220\n",
              "853      1 1970-01-01 00:01:25.320\n",
              "854      0 1970-01-01 00:01:25.420\n",
              "855      0 1970-01-01 00:01:25.520\n",
              "856      0 1970-01-01 00:01:25.620\n",
              "857      0 1970-01-01 00:01:25.720\n",
              "858      0 1970-01-01 00:01:25.820\n",
              "859      0 1970-01-01 00:01:25.920"
            ],
            "text/html": [
              "\n",
              "  <div id=\"df-1162dc84-7753-410e-8db8-4c98128217ec\">\n",
              "    <div class=\"colab-df-container\">\n",
              "      <div>\n",
              "<style scoped>\n",
              "    .dataframe tbody tr th:only-of-type {\n",
              "        vertical-align: middle;\n",
              "    }\n",
              "\n",
              "    .dataframe tbody tr th {\n",
              "        vertical-align: top;\n",
              "    }\n",
              "\n",
              "    .dataframe thead th {\n",
              "        text-align: right;\n",
              "    }\n",
              "</style>\n",
              "<table border=\"1\" class=\"dataframe\">\n",
              "  <thead>\n",
              "    <tr style=\"text-align: right;\">\n",
              "      <th></th>\n",
              "      <th>label</th>\n",
              "      <th>time</th>\n",
              "    </tr>\n",
              "  </thead>\n",
              "  <tbody>\n",
              "    <tr>\n",
              "      <th>848</th>\n",
              "      <td>1</td>\n",
              "      <td>1970-01-01 00:01:24.820</td>\n",
              "    </tr>\n",
              "    <tr>\n",
              "      <th>849</th>\n",
              "      <td>1</td>\n",
              "      <td>1970-01-01 00:01:24.920</td>\n",
              "    </tr>\n",
              "    <tr>\n",
              "      <th>850</th>\n",
              "      <td>1</td>\n",
              "      <td>1970-01-01 00:01:25.020</td>\n",
              "    </tr>\n",
              "    <tr>\n",
              "      <th>851</th>\n",
              "      <td>1</td>\n",
              "      <td>1970-01-01 00:01:25.120</td>\n",
              "    </tr>\n",
              "    <tr>\n",
              "      <th>852</th>\n",
              "      <td>1</td>\n",
              "      <td>1970-01-01 00:01:25.220</td>\n",
              "    </tr>\n",
              "    <tr>\n",
              "      <th>853</th>\n",
              "      <td>1</td>\n",
              "      <td>1970-01-01 00:01:25.320</td>\n",
              "    </tr>\n",
              "    <tr>\n",
              "      <th>854</th>\n",
              "      <td>0</td>\n",
              "      <td>1970-01-01 00:01:25.420</td>\n",
              "    </tr>\n",
              "    <tr>\n",
              "      <th>855</th>\n",
              "      <td>0</td>\n",
              "      <td>1970-01-01 00:01:25.520</td>\n",
              "    </tr>\n",
              "    <tr>\n",
              "      <th>856</th>\n",
              "      <td>0</td>\n",
              "      <td>1970-01-01 00:01:25.620</td>\n",
              "    </tr>\n",
              "    <tr>\n",
              "      <th>857</th>\n",
              "      <td>0</td>\n",
              "      <td>1970-01-01 00:01:25.720</td>\n",
              "    </tr>\n",
              "    <tr>\n",
              "      <th>858</th>\n",
              "      <td>0</td>\n",
              "      <td>1970-01-01 00:01:25.820</td>\n",
              "    </tr>\n",
              "    <tr>\n",
              "      <th>859</th>\n",
              "      <td>0</td>\n",
              "      <td>1970-01-01 00:01:25.920</td>\n",
              "    </tr>\n",
              "  </tbody>\n",
              "</table>\n",
              "</div>\n",
              "      <button class=\"colab-df-convert\" onclick=\"convertToInteractive('df-1162dc84-7753-410e-8db8-4c98128217ec')\"\n",
              "              title=\"Convert this dataframe to an interactive table.\"\n",
              "              style=\"display:none;\">\n",
              "        \n",
              "  <svg xmlns=\"http://www.w3.org/2000/svg\" height=\"24px\"viewBox=\"0 0 24 24\"\n",
              "       width=\"24px\">\n",
              "    <path d=\"M0 0h24v24H0V0z\" fill=\"none\"/>\n",
              "    <path d=\"M18.56 5.44l.94 2.06.94-2.06 2.06-.94-2.06-.94-.94-2.06-.94 2.06-2.06.94zm-11 1L8.5 8.5l.94-2.06 2.06-.94-2.06-.94L8.5 2.5l-.94 2.06-2.06.94zm10 10l.94 2.06.94-2.06 2.06-.94-2.06-.94-.94-2.06-.94 2.06-2.06.94z\"/><path d=\"M17.41 7.96l-1.37-1.37c-.4-.4-.92-.59-1.43-.59-.52 0-1.04.2-1.43.59L10.3 9.45l-7.72 7.72c-.78.78-.78 2.05 0 2.83L4 21.41c.39.39.9.59 1.41.59.51 0 1.02-.2 1.41-.59l7.78-7.78 2.81-2.81c.8-.78.8-2.07 0-2.86zM5.41 20L4 18.59l7.72-7.72 1.47 1.35L5.41 20z\"/>\n",
              "  </svg>\n",
              "      </button>\n",
              "      \n",
              "  <style>\n",
              "    .colab-df-container {\n",
              "      display:flex;\n",
              "      flex-wrap:wrap;\n",
              "      gap: 12px;\n",
              "    }\n",
              "\n",
              "    .colab-df-convert {\n",
              "      background-color: #E8F0FE;\n",
              "      border: none;\n",
              "      border-radius: 50%;\n",
              "      cursor: pointer;\n",
              "      display: none;\n",
              "      fill: #1967D2;\n",
              "      height: 32px;\n",
              "      padding: 0 0 0 0;\n",
              "      width: 32px;\n",
              "    }\n",
              "\n",
              "    .colab-df-convert:hover {\n",
              "      background-color: #E2EBFA;\n",
              "      box-shadow: 0px 1px 2px rgba(60, 64, 67, 0.3), 0px 1px 3px 1px rgba(60, 64, 67, 0.15);\n",
              "      fill: #174EA6;\n",
              "    }\n",
              "\n",
              "    [theme=dark] .colab-df-convert {\n",
              "      background-color: #3B4455;\n",
              "      fill: #D2E3FC;\n",
              "    }\n",
              "\n",
              "    [theme=dark] .colab-df-convert:hover {\n",
              "      background-color: #434B5C;\n",
              "      box-shadow: 0px 1px 3px 1px rgba(0, 0, 0, 0.15);\n",
              "      filter: drop-shadow(0px 1px 2px rgba(0, 0, 0, 0.3));\n",
              "      fill: #FFFFFF;\n",
              "    }\n",
              "  </style>\n",
              "\n",
              "      <script>\n",
              "        const buttonEl =\n",
              "          document.querySelector('#df-1162dc84-7753-410e-8db8-4c98128217ec button.colab-df-convert');\n",
              "        buttonEl.style.display =\n",
              "          google.colab.kernel.accessAllowed ? 'block' : 'none';\n",
              "\n",
              "        async function convertToInteractive(key) {\n",
              "          const element = document.querySelector('#df-1162dc84-7753-410e-8db8-4c98128217ec');\n",
              "          const dataTable =\n",
              "            await google.colab.kernel.invokeFunction('convertToInteractive',\n",
              "                                                     [key], {});\n",
              "          if (!dataTable) return;\n",
              "\n",
              "          const docLinkHtml = 'Like what you see? Visit the ' +\n",
              "            '<a target=\"_blank\" href=https://colab.research.google.com/notebooks/data_table.ipynb>data table notebook</a>'\n",
              "            + ' to learn more about interactive tables.';\n",
              "          element.innerHTML = '';\n",
              "          dataTable['output_type'] = 'display_data';\n",
              "          await google.colab.output.renderOutput(dataTable, element);\n",
              "          const docLink = document.createElement('div');\n",
              "          docLink.innerHTML = docLinkHtml;\n",
              "          element.appendChild(docLink);\n",
              "        }\n",
              "      </script>\n",
              "    </div>\n",
              "  </div>\n",
              "  "
            ]
          },
          "metadata": {}
        }
      ],
      "source": [
        "############## Verify correct NA fill using rolling window ##############\n",
        "sub_id_x = 'subject_001_01'\n",
        "Y_data = pd.read_csv('{id}__y.csv'.format(id=sub_id_x), names=['label'], header=None)\n",
        "Y_time = pd.read_csv('{id}__y_time.csv'.format(id=sub_id_x), names=['time'], header=None)\n",
        "Y = pd.concat([Y_data, Y_time], axis=1)\n",
        "Y['time'] = Y['time'].apply(lambda x: datetime.datetime.fromtimestamp(x))\n",
        "display(Y[848:860])"
      ]
    },
    {
      "cell_type": "markdown",
      "metadata": {
        "id": "3-YaaCysVGwP"
      },
      "source": [
        "# Data Preparation for Neural Network Input"
      ]
    },
    {
      "cell_type": "code",
      "execution_count": 9,
      "metadata": {
        "id": "HiHLlxDj8Tz8",
        "colab": {
          "base_uri": "https://localhost:8080/"
        },
        "outputId": "8ea31c57-4780-4911-b426-6891e2b61219"
      },
      "outputs": [
        {
          "output_type": "stream",
          "name": "stderr",
          "text": [
            "<ipython-input-9-56a73745e555>:16: FutureWarning: Unlike other reduction functions (e.g. `skew`, `kurtosis`), the default behavior of `mode` typically preserves the axis it acts along. In SciPy 1.11.0, this behavior will change: the default value of `keepdims` will become False, the `axis` over which the statistic is taken will be eliminated, and the value None will no longer be accepted. Set `keepdims` to True or False to avoid this warning.\n",
            "  label = stats.mode(df_train['label'][i: i + window_size])[0][0]\n"
          ]
        },
        {
          "output_type": "stream",
          "name": "stdout",
          "text": [
            "Data Shape: (334978, 1, 6, 60) Label Shape (334978,)\n"
          ]
        }
      ],
      "source": [
        "############## Data Prep for Conv1D ##############\n",
        "from scipy import stats\n",
        "def data_prep(window_size,step_size,data_all,subject_name_instances):\n",
        "    train_labels = []\n",
        "    data=[]\n",
        "    session = []\n",
        "    for subject_name_instance in subject_name_instances:\n",
        "        df_train = data_all[data_all['session']==subject_name_instance]\n",
        "        for i in range(0, df_train.shape[0] - window_size, step_size):\n",
        "            x_acc = df_train['x_acc'].values[i: i + window_size].reshape(1,window_size)\n",
        "            y_acc = df_train['y_acc'].values[i: i + window_size].reshape(1,window_size)\n",
        "            z_acc = df_train['z_acc'].values[i: i + window_size].reshape(1,window_size)\n",
        "            x_gyro = df_train['x_gyro'].values[i: i + window_size].reshape(1,window_size)\n",
        "            y_gyro = df_train['y_gyro'].values[i: i + window_size].reshape(1,window_size)\n",
        "            z_gyro = df_train['z_gyro'].values[i: i + window_size].reshape(1,window_size)\n",
        "            label = stats.mode(df_train['label'][i: i + window_size])[0][0]\n",
        "            data_point=np.vstack((x_acc,y_acc,z_acc,x_gyro,y_gyro,z_gyro))\n",
        "            train_labels.append(label)\n",
        "            data.append(data_point.reshape(1,6,window_size))\n",
        "            session.append(subject_name_instance)\n",
        "    return np.array(data), np.array(train_labels), np.array(session)\n",
        "\n",
        "# Data Reshaping for conv1d layer input\n",
        "data_reshape, label_reshape, session_reshape = data_prep(60,4,data_df,subject_list_x)\n",
        "\n",
        "# Construct final dataset for training\n",
        "data_df=pd.DataFrame(zip(data_reshape,label_reshape, session_reshape),columns=['data','label','session'])\n",
        "print(\"Data Shape:\", data_reshape.shape, \"Label Shape\", label_reshape.shape)"
      ]
    },
    {
      "cell_type": "markdown",
      "metadata": {
        "id": "AfTFutmpUhJQ"
      },
      "source": [
        "# Analysing Data Imbalance"
      ]
    },
    {
      "cell_type": "code",
      "execution_count": 10,
      "metadata": {
        "id": "ppgs67L8cG0o",
        "colab": {
          "base_uri": "https://localhost:8080/",
          "height": 574
        },
        "outputId": "98c83ea0-c6a3-4175-c9a7-00768cb84a98"
      },
      "outputs": [
        {
          "output_type": "stream",
          "name": "stdout",
          "text": [
            "label\n",
            "0    251292\n",
            "1     13811\n",
            "2     18266\n",
            "3     51609\n",
            "dtype: int64\n"
          ]
        },
        {
          "output_type": "execute_result",
          "data": {
            "text/plain": [
              "<Axes: xlabel='label', ylabel='count'>"
            ]
          },
          "metadata": {},
          "execution_count": 10
        },
        {
          "output_type": "display_data",
          "data": {
            "text/plain": [
              "<Figure size 640x480 with 1 Axes>"
            ],
            "image/png": "[encoded data removed]"
          },
          "metadata": {}
        }
      ],
      "source": [
        "############## Interpretting data imbalance in pre-processed dataset ##############\n",
        "data_df['label'] = data_df['label'].astype(int)\n",
        "print(data_df.groupby('label').size())\n",
        "\n",
        "sns.countplot(x ='label', data = data_df, palette=\"Blues\")"
      ]
    },
    {
      "cell_type": "code",
      "execution_count": 11,
      "metadata": {
        "id": "HDt-hgogZFRW",
        "colab": {
          "base_uri": "https://localhost:8080/"
        },
        "outputId": "1f2b8abc-9338-4fde-925d-d1b834976bad"
      },
      "outputs": [
        {
          "output_type": "stream",
          "name": "stdout",
          "text": [
            "Train set size: 296819 Val set size: 38159\n",
            "Val split %:  11.39\n"
          ]
        }
      ],
      "source": [
        "############## Split Data into training and testing ##############\n",
        "\n",
        "# Splitting the data by using session leave out\n",
        "session_leave_out = ['subject_006_01','subject_006_02','subject_006_03']\n",
        "\n",
        "val_array = data_df.session.isin(session_leave_out)\n",
        "train_data = data_df[np.invert(val_array)]\n",
        "val_data = data_df[val_array]\n",
        "X_train, y_train = train_data[['data']], train_data[['label']]\n",
        "X_val, y_val = val_data[['data']], val_data[['label']]\n",
        "\n",
        "print(\"Train set size:\",train_data.shape[0], \"Val set size:\",val_data.shape[0])\n",
        "print(\"Val split %: \", round(val_data.shape[0]/data_df.shape[0]*100,2))"
      ]
    },
    {
      "cell_type": "code",
      "execution_count": 12,
      "metadata": {
        "id": "PA72UvIPGMDP",
        "colab": {
          "base_uri": "https://localhost:8080/",
          "height": 681
        },
        "outputId": "b390a907-432a-445a-f28e-b7d557662f8b"
      },
      "outputs": [
        {
          "output_type": "stream",
          "name": "stdout",
          "text": [
            "label\n",
            "0    221054\n",
            "1     12348\n",
            "2     16558\n",
            "3     46859\n",
            "dtype: int64\n",
            "label\n",
            "0    74.474343\n",
            "1     4.160111\n",
            "2     5.578484\n",
            "3    15.787062\n",
            "dtype: float64\n",
            "Train Set Size: 296819\n"
          ]
        },
        {
          "output_type": "display_data",
          "data": {
            "text/plain": [
              "<Figure size 640x480 with 1 Axes>"
            ],
            "image/png": "[encoded data removed]"
          },
          "metadata": {}
        }
      ],
      "source": [
        "############## Checking train set distribution ##############\n",
        "print(train_data.groupby('label').size())\n",
        "print(train_data.groupby('label').size()/train_data['label'].shape[0]*100)\n",
        "sns.countplot(x ='label', data = train_data, palette=\"Blues\")\n",
        "print(\"Train Set Size:\", train_data['label'].shape[0])"
      ]
    },
    {
      "cell_type": "code",
      "execution_count": 14,
      "metadata": {
        "id": "S3tB_QfsGOW7",
        "colab": {
          "base_uri": "https://localhost:8080/",
          "height": 681
        },
        "outputId": "ec27a8d2-4c16-4a76-82d9-7d9055651602"
      },
      "outputs": [
        {
          "output_type": "stream",
          "name": "stdout",
          "text": [
            "label\n",
            "0    30238\n",
            "1     1463\n",
            "2     1708\n",
            "3     4750\n",
            "dtype: int64\n",
            "label\n",
            "0    79.242119\n",
            "1     3.833958\n",
            "2     4.476008\n",
            "3    12.447915\n",
            "dtype: float64\n",
            "Test Set Size: 38159\n"
          ]
        },
        {
          "output_type": "display_data",
          "data": {
            "text/plain": [
              "<Figure size 640x480 with 1 Axes>"
            ],
            "image/png": "[encoded data removed]"
          },
          "metadata": {}
        }
      ],
      "source": [
        "############## Checking validation set distribution ##############\n",
        "print(val_data.groupby('label').size())\n",
        "print(val_data.groupby('label').size()/val_data['label'].shape[0]*100)\n",
        "sns.countplot(x ='label', data = val_data, palette=\"Blues\")\n",
        "print(\"Test Set Size:\", val_data['label'].shape[0])"
      ]
    },
    {
      "cell_type": "markdown",
      "metadata": {
        "id": "KkNITaJoCEQs"
      },
      "source": [
        "# Training the model"
      ]
    },
    {
      "cell_type": "code",
      "execution_count": 15,
      "metadata": {
        "id": "n_9DqCqmxAF_",
        "colab": {
          "base_uri": "https://localhost:8080/"
        },
        "outputId": "e7960a2e-b1c1-46fd-d3d3-7005e4c21319"
      },
      "outputs": [
        {
          "output_type": "stream",
          "name": "stdout",
          "text": [
            "Class weights tensor([0.3357, 6.0095, 4.4815, 1.5836])\n"
          ]
        }
      ],
      "source": [
        "############## Calculating class weights to use with loss function ##############\n",
        "from sklearn.utils import class_weight\n",
        "class_weights = class_weight.compute_class_weight(class_weight = 'balanced', classes=y_train.label.unique(), y=y_train.label)\n",
        "class_weights = torch.Tensor(class_weights)\n",
        "print(\"Class weights\", class_weights)"
      ]
    },
    {
      "cell_type": "code",
      "execution_count": 16,
      "metadata": {
        "id": "qISPz8agDfv8"
      },
      "outputs": [],
      "source": [
        "# Training parameters\n",
        "batch_size = 256\n",
        "learning_rate = 0.001\n",
        "num_epochs = 25"
      ]
    },
    {
      "cell_type": "code",
      "execution_count": 17,
      "metadata": {
        "id": "TDk6mKVJCDCP"
      },
      "outputs": [],
      "source": [
        "############## Defining CNN model architecture ##############\n",
        "class CNN(nn.Module):\n",
        "    def __init__(self):\n",
        "        super(CNN, self).__init__()\n",
        "        self.conv1 = nn.Conv1d(6, 12, 5,stride = 1)\n",
        "        self.conv2 = nn.Conv1d(12, 24, 5,stride = 1)\n",
        "        self.conv3 = nn.Conv1d(24, 48, 5,stride = 1)\n",
        "        self.fc1 = nn.Linear(48*48, 256)\n",
        "        self.fc2 = nn.Linear(256, 64)\n",
        "        self.fc3 = nn.Linear(64, 4)\n",
        "\n",
        "    def forward(self, x):\n",
        "        x = x.float() \n",
        "        x = self.conv1(x)                                     \n",
        "        x = F.relu(x)\n",
        "        x = self.conv2(x)                                      \n",
        "        x = F.relu(x)\n",
        "        x = self.conv3(x)                                     \n",
        "        x = F.relu(x)  \n",
        "        x = x.view(-1, 48*48)                       \n",
        "        x = self.fc1(x)                                       \n",
        "        x = F.relu(x)\n",
        "        x = self.fc2(x)                                       \n",
        "        x = F.relu(x)\n",
        "        x = self.fc3(x)                                       \n",
        "        return x"
      ]
    },
    {
      "cell_type": "code",
      "source": [
        "############## Defining CNN LSTM model architecture ##############\n",
        "class CNN_LSTM_Batch_Normalization(nn.Module):\n",
        "  def __init__(self):\n",
        "    \n",
        "    super(CNN_LSTM_Batch_Normalization, self).__init__()\n",
        "    \n",
        "    self.conv1 = nn.Conv1d(6, 12, 5,stride = 1,padding = 2)\n",
        "    self.norm1 = nn.BatchNorm1d(12)\n",
        "    self.conv2 = nn.Conv1d(12, 24, 5,stride = 1,padding = 2)\n",
        "    self.norm2 = nn.BatchNorm1d(24)\n",
        "    self.conv3 = nn.Conv1d(24, 48, 5,stride = 1,padding = 2)\n",
        "    self.norm3 = nn.BatchNorm1d(48)\n",
        "    self.lstm = nn.LSTM(48,128,2, batch_first=True)\n",
        "    self.fc1 = nn.Linear(60*128, 256)\n",
        "    self.norm4 = nn.BatchNorm1d(256)\n",
        "    self.fc2 = nn.Linear(256, 64)\n",
        "    self.norm5 = nn.BatchNorm1d(64)\n",
        "    self.fc3 = nn.Linear(64, 4)\n",
        "  \n",
        "  def forward(self, x):\n",
        "    h0 = torch.zeros(2, x.size(0), 128).to(device)\n",
        "    c0 = torch.zeros(2, x.size(0), 128).to(device)\n",
        "\n",
        "    x = x.float() \n",
        "    x = self.conv1(x)                                     \n",
        "    x = self.norm1(x) \n",
        "    x = F.relu(x)\n",
        "    \n",
        "    x = self.conv2(x)                                      \n",
        "    x = self.norm2(x) \n",
        "    x = F.relu(x)\n",
        "\n",
        "    x = self.conv3(x)                                     \n",
        "    x = self.norm3(x)\n",
        "    x = F.relu(x)\n",
        "\n",
        "    x = x.reshape(-1,60,48)\n",
        "    x, state = self.lstm(x, (h0,c0))\n",
        "    x = x.reshape(x.shape[0],-1) \n",
        "\n",
        "    x = self.fc1(x) \n",
        "    x = self.norm4(x)\n",
        "    x = F.relu(x)\n",
        "      \n",
        "    x = self.fc2(x)                                       \n",
        "    x = self.norm5(x)   \n",
        "    x = F.relu(x)\n",
        "    \n",
        "    x = self.fc3(x)                                       \n",
        "      \n",
        "    return x"
      ],
      "metadata": {
        "id": "Ia1kMX6-vJyv"
      },
      "execution_count": 18,
      "outputs": []
    },
    {
      "cell_type": "code",
      "source": [
        "class EarlyStopping:\n",
        "    def __init__(self, patience=3, verbose=False, path=\"best_model.pth\", trace_func=print):\n",
        "\n",
        "        self.patience = patience\n",
        "        self.verbose = verbose\n",
        "        self.counter = 0\n",
        "        self.best_score = None\n",
        "        self.early_stop = False\n",
        "        self.val_loss_min = np.Inf\n",
        "        self.path = path\n",
        "        self.trace_func = trace_func\n",
        "\n",
        "    def __call__(self, val_loss, model):\n",
        "\n",
        "        score = -val_loss\n",
        "\n",
        "        if self.best_score is None:\n",
        "            self.best_score = score\n",
        "            self.save_checkpoint(val_loss, model)\n",
        "            \n",
        "        elif score < self.best_score:\n",
        "            self.counter += 1\n",
        "            self.trace_func(f'EarlyStopping counter: {self.counter} out of {self.patience}')\n",
        "            if self.counter >= self.patience:\n",
        "                self.early_stop = True\n",
        "        else:\n",
        "            self.best_score = score\n",
        "            self.save_checkpoint(val_loss, model)\n",
        "            self.counter = 0\n",
        "\n",
        "    def save_checkpoint(self, val_loss, model):\n",
        "        if self.verbose:\n",
        "            self.trace_func(f'Validation loss decreased ({self.val_loss_min:.6f} --> {val_loss:.6f}).  Saving model ...')\n",
        "        torch.save(model.state_dict(), self.path)\n",
        "        self.val_loss_min = val_loss"
      ],
      "metadata": {
        "id": "o2hS7HlR-tgX"
      },
      "execution_count": 28,
      "outputs": []
    },
    {
      "cell_type": "code",
      "execution_count": 25,
      "metadata": {
        "id": "uSHLX90Sl_bZ"
      },
      "outputs": [],
      "source": [
        "############## Defining dataset class for loading data for model use ##############\n",
        "class dataset(torch.utils.data.Dataset):\n",
        "    def __init__(self,data,label):\n",
        "        self.data = data\n",
        "        self.label = label\n",
        "                \n",
        "    def __len__(self):\n",
        "        self.filelength = len(self.data)\n",
        "        return self.filelength\n",
        "    \n",
        "    #load an one of images\n",
        "    def __getitem__(self,idx):\n",
        "        data_idx = self.data[idx][0]\n",
        "        data_info = data_idx.reshape(6, 60)\n",
        "        label_idx = self.label[idx]\n",
        "        label_info = torch.as_tensor(label_idx, dtype=torch.int64)\n",
        "        label_info = torch.squeeze(label_info)\n",
        "        return data_info, label_info"
      ]
    },
    {
      "cell_type": "code",
      "execution_count": 20,
      "metadata": {
        "id": "3AahkNkJmxy9",
        "colab": {
          "base_uri": "https://localhost:8080/"
        },
        "outputId": "7c63e3f9-f395-4fb3-c58e-3f7961ce2b40"
      },
      "outputs": [
        {
          "output_type": "stream",
          "name": "stdout",
          "text": [
            "Data loader data point size (6, 60)\n",
            "Data point size (1, 6, 60)\n"
          ]
        }
      ],
      "source": [
        "############## Loading data for model use ##############\n",
        "train_dataset = dataset(X_train.to_numpy(), y_train.to_numpy())\n",
        "val_dataset = dataset(X_val.to_numpy(), y_val.to_numpy())\n",
        "\n",
        "train_loader = torch.utils.data.DataLoader(dataset = train_dataset, batch_size=batch_size, num_workers=0)\n",
        "val_loader = torch.utils.data.DataLoader(dataset = val_dataset, batch_size=batch_size, num_workers=0)\n",
        "\n",
        "print(\"Data loader data point size\", train_dataset.__getitem__(0)[0].shape)\n",
        "print(\"Data point size\", X_train.to_numpy()[0][0].shape)"
      ]
    },
    {
      "cell_type": "code",
      "source": [
        "############## Initializing CNN model, loss function and optimizer #############\n",
        "model = CNN().to(device)\n",
        "loss_fn = nn.CrossEntropyLoss(weight=class_weights.to(device))\n",
        "optimizer = torch.optim.Adam(model.parameters(), lr=learning_rate)\n",
        "summary(model,(6,60))"
      ],
      "metadata": {
        "id": "3PLoQOC6eSAy",
        "colab": {
          "base_uri": "https://localhost:8080/"
        },
        "outputId": "da43230c-b46e-4273-8b69-d05030ec9615"
      },
      "execution_count": 21,
      "outputs": [
        {
          "output_type": "stream",
          "name": "stdout",
          "text": [
            "----------------------------------------------------------------\n",
            "        Layer (type)               Output Shape         Param #\n",
            "================================================================\n",
            "            Conv1d-1               [-1, 12, 56]             372\n",
            "            Conv1d-2               [-1, 24, 52]           1,464\n",
            "            Conv1d-3               [-1, 48, 48]           5,808\n",
            "            Linear-4                  [-1, 256]         590,080\n",
            "            Linear-5                   [-1, 64]          16,448\n",
            "            Linear-6                    [-1, 4]             260\n",
            "================================================================\n",
            "Total params: 614,432\n",
            "Trainable params: 614,432\n",
            "Non-trainable params: 0\n",
            "----------------------------------------------------------------\n",
            "Input size (MB): 0.00\n",
            "Forward/backward pass size (MB): 0.03\n",
            "Params size (MB): 2.34\n",
            "Estimated Total Size (MB): 2.38\n",
            "----------------------------------------------------------------\n"
          ]
        }
      ]
    },
    {
      "cell_type": "code",
      "source": [
        "############## Initializing CNN + LSTM model, loss function and optimizer #############\n",
        "model = CNN_LSTM_Batch_Normalization().to(device)\n",
        "loss_fn = nn.CrossEntropyLoss(weight=class_weights.to(device))\n",
        "optimizer = torch.optim.Adam(model.parameters(), lr=learning_rate)"
      ],
      "metadata": {
        "id": "MnTa9HQpzei6"
      },
      "execution_count": 44,
      "outputs": []
    },
    {
      "cell_type": "code",
      "execution_count": 45,
      "metadata": {
        "id": "HEcR5KxVCnxG",
        "colab": {
          "base_uri": "https://localhost:8080/"
        },
        "outputId": "c9c4a61b-01c1-42dc-d1c1-7da227da311a"
      },
      "outputs": [
        {
          "output_type": "stream",
          "name": "stdout",
          "text": [
            "Validation loss decreased (inf --> 0.371135).  Saving model ...\n",
            "EarlyStopping counter: 1 out of 5\n",
            "Epoch 00003: reducing learning rate of group 0 to 1.0000e-04.\n",
            "EarlyStopping counter: 2 out of 5\n",
            "Validation loss decreased (0.371135 --> 0.226764).  Saving model ...\n",
            "Epoch 00005: reducing learning rate of group 0 to 1.0000e-05.\n",
            "[Epoch     5 of 25] loss: 0.358336 val_loss: 0.208942\n",
            "Train Accuracy: 0.8772793290854572 Val Accuracy: 0.9317447916666667\n",
            "Validation loss decreased (0.226764 --> 0.208942).  Saving model ...\n",
            "Validation loss decreased (0.208942 --> 0.198763).  Saving model ...\n",
            "Epoch 00007: reducing learning rate of group 0 to 1.0000e-06.\n",
            "EarlyStopping counter: 1 out of 5\n",
            "EarlyStopping counter: 2 out of 5\n",
            "Epoch 00009: reducing learning rate of group 0 to 1.0000e-07.\n",
            "EarlyStopping counter: 3 out of 5\n",
            "[Epoch    10 of 25] loss: 0.334617 val_loss: 0.203573\n",
            "Train Accuracy: 0.8867071249531483 Val Accuracy: 0.9366927083333333\n",
            "EarlyStopping counter: 4 out of 5\n",
            "Epoch 00011: reducing learning rate of group 0 to 1.0000e-08.\n",
            "EarlyStopping counter: 5 out of 5\n",
            "Early stopping\n",
            "[Epoch    11 of 25] loss: 0.334576 val_loss: 0.203574\n",
            "Train Accuracy: 0.8867104924100448 Val Accuracy: 0.9367447916666667\n"
          ]
        }
      ],
      "source": [
        "############## Function for model training ##############\n",
        "def training(train_loader, val_loader, loss_fn, optimizer, num_epochs=10, verbose=True):\n",
        "  train_loss_epoch = []\n",
        "  val_loss_epoch = []\n",
        "\n",
        "  save_directory = os.path.join('/content/drive/Shared drives/Colab Work','Model_Checkpoint')\n",
        "  if not os.path.exists(save_directory):\n",
        "      os.makedirs(save_directory)\n",
        "\n",
        "  model_path = os.path.join(save_directory,\"LSTM_CNN\"+\"_best_model.pth\")\n",
        "  early_stopping = EarlyStopping(patience=5, verbose=True, path=model_path)\n",
        "\n",
        "  scheduler = ReduceLROnPlateau(optimizer, 'min', patience=1, verbose=True)\n",
        "\n",
        "  for t in range(num_epochs):\n",
        "    epoch_loss = 0\n",
        "    acc_train = 0\n",
        "    model.train()\n",
        "    for data_train, label_train in train_loader:\n",
        "        data_train = data_train.to(device)\n",
        "        label_train = label_train.to(device)\n",
        "        pred_train = model(data_train)\n",
        "        loss_train = loss_fn(pred_train, label_train)\n",
        "\n",
        "        _, pred_train = torch.max(pred_train,axis=1)\n",
        "        acc_train += accuracy_score(pred_train.detach().cpu().numpy(), label_train.detach().cpu().numpy())\n",
        "        \n",
        "        optimizer.zero_grad()\n",
        "        loss_train.backward()\n",
        "        optimizer.step()\n",
        "\n",
        "        epoch_loss += loss_train.detach()/len(train_loader)\n",
        "\n",
        "    acc_val, f1_val = 0, 0\n",
        "    preds=[]\n",
        "    model.eval()\n",
        "    with torch.no_grad():\n",
        "        epoch_loss_val = 0\n",
        "        for data_val, label_val in val_loader:\n",
        "            data_val = data_val.to(device)\n",
        "            label_val = label_val.to(device)\n",
        "            pred_val = model(data_val)\n",
        "            loss_val = loss_fn(pred_val, label_val)\n",
        "\n",
        "            _, pred_val = torch.max(pred_val,axis=1)\n",
        "            preds.extend(pred_val.tolist()) \n",
        "            acc_val += accuracy_score(pred_val.detach().cpu().numpy(), label_val.detach().cpu().numpy())\n",
        "            f1_val += f1_score(pred_val.detach().cpu().numpy(), label_val.detach().cpu().numpy(), average='macro')\n",
        "\n",
        "            epoch_loss_val += loss_val.detach()/len(val_loader)\n",
        "      \n",
        "        scheduler.step(loss_val)\n",
        "\n",
        "        if (t+1)%5==0 and verbose:    \n",
        "          print(\"[Epoch {t:5d} of {epochs}] loss: {loss:1.6f} val_loss: {val_loss:1.6f}\".format(t=t+1,epochs= num_epochs,loss=epoch_loss,val_loss=epoch_loss_val))\n",
        "          print(\"Train Accuracy:\",acc_train/len(train_loader),\"Val Accuracy:\",acc_val/len(val_loader))\n",
        "\n",
        "        train_loss_epoch.append(epoch_loss.item())\n",
        "        val_loss_epoch.append(epoch_loss_val.item())\n",
        "\n",
        "        early_stopping(epoch_loss_val, model)\n",
        "          \n",
        "        if early_stopping.early_stop:\n",
        "            print(\"Early stopping\")\n",
        "            print(\"[Epoch {t:5d} of {epochs}] loss: {loss:1.6f} val_loss: {val_loss:1.6f}\".format(t=t+1,epochs= num_epochs,loss=epoch_loss,val_loss=epoch_loss_val))\n",
        "            print(\"Train Accuracy:\",acc_train/len(train_loader),\"Val Accuracy:\",acc_val/len(val_loader))\n",
        "            break\n",
        "    \n",
        "  return acc_train/len(train_loader), acc_val/len(val_loader), f1_val/len(val_loader), train_loss_epoch, val_loss_epoch\n",
        "\n",
        "acc_train, acc_val, f1_val, train_loss_epoch, val_loss_epoch = training(train_loader, val_loader, loss_fn, optimizer, num_epochs)"
      ]
    },
    {
      "cell_type": "code",
      "execution_count": 46,
      "metadata": {
        "id": "ehvbJ86QRKyY",
        "colab": {
          "base_uri": "https://localhost:8080/",
          "height": 430
        },
        "outputId": "5abb368f-3427-439e-e0ec-85b789a4339e"
      },
      "outputs": [
        {
          "output_type": "display_data",
          "data": {
            "text/plain": [
              "<Figure size 640x480 with 1 Axes>"
            ],
            "image/png": "[encoded data removed]"
          },
          "metadata": {}
        }
      ],
      "source": [
        "############## Plotting training and validation loss ##############\n",
        "plt.plot(train_loss_epoch, label='train_loss')\n",
        "plt.plot(val_loss_epoch,label='val_loss')\n",
        "plt.legend()\n",
        "plt.show()"
      ]
    },
    {
      "cell_type": "code",
      "execution_count": 47,
      "metadata": {
        "id": "GOqX5dyZY1W6",
        "colab": {
          "base_uri": "https://localhost:8080/"
        },
        "outputId": "a5e8fb1c-62bf-41ac-d452-249a809908ab"
      },
      "outputs": [
        {
          "output_type": "stream",
          "name": "stdout",
          "text": [
            "                  precision    recall  f1-score   support\n",
            "\n",
            "Standing/Walking       0.96      0.97      0.96     30238\n",
            "       Up_Stairs       0.66      0.99      0.79      1463\n",
            "     Down_Stairs       0.92      0.98      0.95      1708\n",
            "Walking on grass       0.95      0.67      0.79      4750\n",
            "\n",
            "        accuracy                           0.94     38159\n",
            "       macro avg       0.87      0.91      0.87     38159\n",
            "    weighted avg       0.94      0.94      0.93     38159\n",
            "\n"
          ]
        }
      ],
      "source": [
        "############## Evaluating metrics for model predcition ##############\n",
        "accuracy = 0\n",
        "f1score = 0\n",
        "prediction = []\n",
        "target_v = []\n",
        "confusion = [[0 for i in range(4)] for j in range(4)]\n",
        "model.eval()\n",
        "with torch.no_grad():\n",
        "    epoch_loss_val = 0\n",
        "    for data_val, label_val in val_loader:\n",
        "        data_val = data_val.to(device)\n",
        "        label_val = label_val.to(device)\n",
        "        pred_val = model(data_val)\n",
        "        _, pred_val = torch.max(pred_val,axis=1)\n",
        "\n",
        "        for t, p in zip(pred_val.view(-1), label_val.view(-1)):\n",
        "          confusion[p.long()][t.long()] += 1\n",
        "          prediction.append(int(t))\n",
        "          target_v.append(int(p))\n",
        "\n",
        "print(classification_report(target_v, prediction, target_names=['Standing/Walking','Up_Stairs','Down_Stairs', 'Walking on grass']))\n"
      ]
    },
    {
      "cell_type": "code",
      "execution_count": 48,
      "metadata": {
        "id": "g7ne5kVeUrz5",
        "colab": {
          "base_uri": "https://localhost:8080/",
          "height": 501
        },
        "outputId": "365ae1f4-ff08-4e03-eac9-6c479ba0f688"
      },
      "outputs": [
        {
          "output_type": "execute_result",
          "data": {
            "text/plain": [
              "array([[29397,     9,    18,  1339],\n",
              "       [  529,  1453,     7,   209],\n",
              "       [  147,     0,  1678,     0],\n",
              "       [  165,     1,     5,  3202]])"
            ]
          },
          "metadata": {},
          "execution_count": 48
        },
        {
          "output_type": "display_data",
          "data": {
            "text/plain": [
              "<Figure size 640x480 with 2 Axes>"
            ],
            "image/png": "[encoded data removed]"
          },
          "metadata": {}
        }
      ],
      "source": [
        "############## Plotting heatmap for prediction confusion matrix ##############\n",
        "sns.heatmap(confusion_matrix(prediction, target_v), annot=True, cmap=\"Blues\")\n",
        "confusion_matrix(prediction, target_v)"
      ]
    },
    {
      "cell_type": "markdown",
      "source": [
        "# Cross Validation"
      ],
      "metadata": {
        "id": "Rst45_Pfz37w"
      }
    },
    {
      "cell_type": "code",
      "source": [
        "# Using cross validation across several subjects to make improve robustness of model\n",
        "cross_val_list = [['subject_001_01', 'subject_001_02', 'subject_001_03', 'subject_001_04', 'subject_001_05', 'subject_001_06','subject_001_07', 'subject_001_08']\n",
        "                  ,['subject_002_01', 'subject_002_02', 'subject_002_03', 'subject_002_04', 'subject_002_05']\n",
        "                  ,['subject_003_01', 'subject_003_02', 'subject_003_03']\n",
        "                  ,['subject_004_01', 'subject_004_02']\n",
        "                  ,['subject_005_01', 'subject_005_02', 'subject_005_03']\n",
        "                  ,['subject_006_01', 'subject_006_02', 'subject_006_03']\n",
        "                  ,['subject_007_01', 'subject_007_02', 'subject_007_03', 'subject_007_04']\n",
        "                  ,['subject_008_01']]\n",
        "\n",
        "train_accs, val_accs, val_f1s = [], [], []\n",
        "for session_leave_out in cross_val_list:\n",
        "  print(\"Validation Set ---->\",session_leave_out)\n",
        "  val_array = data_df.session.isin(session_leave_out)\n",
        "  train_data = data_df[np.invert(val_array)]\n",
        "  val_data = data_df[val_array]\n",
        "\n",
        "  X_train, y_train = train_data[['data']], train_data[['label']]\n",
        "  X_val, y_val = val_data[['data']], val_data[['label']]\n",
        "\n",
        "  print(\"Train set size:\",train_data.shape[0],\"Val set size:\",val_data.shape[0])\n",
        "  print(\"Val split %: \", round(val_data.shape[0]/(train_data.shape[0]+val_data.shape[0])*100,2))\n",
        "\n",
        "  train_dataset = dataset(X_train.to_numpy(), y_train.to_numpy())\n",
        "  val_dataset = dataset(X_val.to_numpy(), y_val.to_numpy())\n",
        "\n",
        "  train_loader = torch.utils.data.DataLoader(dataset = train_dataset, batch_size=batch_size, num_workers=0)\n",
        "  val_loader = torch.utils.data.DataLoader(dataset = val_dataset, batch_size=batch_size, num_workers=0)\n",
        "\n",
        "  model = CNN_LSTM_Batch_Normalization().to(device)\n",
        "  loss_fn = nn.CrossEntropyLoss(weight=class_weights.to(device))\n",
        "  optimizer = torch.optim.Adam(model.parameters(), lr=learning_rate)\n",
        "  acc_train, acc_val, f1_val,  _, _ = training(train_loader, val_loader, loss_fn, optimizer, num_epochs=10, verbose=False)\n",
        "\n",
        "  train_accs.append(acc_train)\n",
        "  val_accs.append(acc_val)\n",
        "  val_f1s.append(f1_val)\n",
        "\n",
        "print(\"Training Accuracy:\",sum(train_accs)/len(cross_val_list), \"Validation Accuracy:\", sum(val_accs)/len(cross_val_list), \"Validation F1:\",sum(val_f1s)/len(cross_val_list))"
      ],
      "metadata": {
        "id": "jBBfUPL7z3bM"
      },
      "execution_count": null,
      "outputs": []
    },
    {
      "cell_type": "markdown",
      "metadata": {
        "id": "Y6wu-WfxzMqF"
      },
      "source": [
        "# Performing Inference on Test Set"
      ]
    },
    {
      "cell_type": "code",
      "execution_count": 49,
      "metadata": {
        "id": "0zeTmiHYzs0Y",
        "colab": {
          "base_uri": "https://localhost:8080/"
        },
        "outputId": "2ed74702-86bd-49cc-f2f3-6929f2969519"
      },
      "outputs": [
        {
          "output_type": "stream",
          "name": "stdout",
          "text": [
            "/content/drive/Shareddrives/Colab Work/TestData\n"
          ]
        }
      ],
      "source": [
        "cd '../TestData'"
      ]
    },
    {
      "cell_type": "code",
      "execution_count": 50,
      "metadata": {
        "id": "kndmrLCMzwi_",
        "colab": {
          "base_uri": "https://localhost:8080/"
        },
        "outputId": "12d692fd-148c-4baf-aead-1bfa79b54edd"
      },
      "outputs": [
        {
          "output_type": "stream",
          "name": "stdout",
          "text": [
            "Number of sessions: 4\n"
          ]
        }
      ],
      "source": [
        "############## Getting a list of all test sessions ##############\n",
        "dirname = '.'\n",
        "X_test_data_files = []\n",
        "X_test_time_files = []\n",
        "Y_test_time_files = []\n",
        "\n",
        "for files in os.listdir(dirname):\n",
        "    if files.endswith('__x.csv'):\n",
        "      X_test_data_files.append(files)\n",
        "    elif files.endswith('__x_time.csv'):\n",
        "      X_test_time_files.append(files)\n",
        "    elif files.endswith('__y_time.csv'):\n",
        "      Y_test_time_files.append(files)\n",
        "\n",
        "X_test_data_files.sort()\n",
        "X_test_time_files.sort()\n",
        "Y_test_time_files.sort()\n",
        "\n",
        "assert len(X_test_data_files) == len(X_test_time_files), \"X features files dont match with time files\"\n",
        "\n",
        "print(\"Number of sessions:\",len(X_test_time_files))"
      ]
    },
    {
      "cell_type": "code",
      "source": [
        "############## Test Data preparation funciton for model prediction ##############\n",
        "def data_prep_test(window_size,step_size,data_df):\n",
        "    data=[]\n",
        "    for i in range(0, data_df.shape[0] - window_size, step_size):\n",
        "        x_acc = data_df['x_acc'].values[i: i + window_size].reshape(1,window_size)\n",
        "        y_acc = data_df['y_acc'].values[i: i + window_size].reshape(1,window_size)\n",
        "        z_acc = data_df['z_acc'].values[i: i + window_size].reshape(1,window_size)\n",
        "        x_gyro = data_df['x_gyro'].values[i: i + window_size].reshape(1,window_size)\n",
        "        y_gyro = data_df['y_gyro'].values[i: i + window_size].reshape(1,window_size)\n",
        "        z_gyro = data_df['z_gyro'].values[i: i + window_size].reshape(1,window_size)\n",
        "        data_point=np.vstack((x_acc,y_acc,z_acc,x_gyro,y_gyro,z_gyro))\n",
        "        data.append(data_point.reshape(1,6,window_size))\n",
        "\n",
        "    return np.array(data)"
      ],
      "metadata": {
        "id": "ycAMh66ZmZPR"
      },
      "execution_count": 51,
      "outputs": []
    },
    {
      "cell_type": "code",
      "source": [
        "############## Data loader function for the test session data ##############\n",
        "class dataset_test(torch.utils.data.Dataset):\n",
        "    def __init__(self,data):\n",
        "        self.data = data\n",
        "                \n",
        "    def __len__(self):\n",
        "        self.filelength = len(self.data)\n",
        "        return self.filelength\n",
        "\n",
        "    def __getitem__(self,idx):\n",
        "        data_idx = self.data[idx][0]\n",
        "        data_info = data_idx.reshape(6, 60)\n",
        "        return data_info"
      ],
      "metadata": {
        "id": "bOklUTeipbrv"
      },
      "execution_count": 52,
      "outputs": []
    },
    {
      "cell_type": "code",
      "execution_count": 53,
      "metadata": {
        "id": "4GcnDdTR0V1e",
        "colab": {
          "base_uri": "https://localhost:8080/"
        },
        "outputId": "b1196bc7-d4de-4836-f398-42f927283f8a"
      },
      "outputs": [
        {
          "output_type": "stream",
          "name": "stdout",
          "text": [
            "Test for session: subject_009_01\n",
            "(9483, 1, 6, 60)\n",
            "Test for session: subject_010_01\n",
            "(12255, 1, 6, 60)\n",
            "Test for session: subject_011_01\n",
            "(12925, 1, 6, 60)\n",
            "Test for session: subject_012_01\n",
            "(11315, 1, 6, 60)\n"
          ]
        }
      ],
      "source": [
        "############## Performing inference on test session ##############\n",
        "test_subject_list_x = [name.removesuffix('__x_time.csv') for name in X_test_time_files]\n",
        "test_subject_list_y = [name.removesuffix('__y_time.csv') for name in Y_test_time_files]\n",
        "\n",
        "for idx, (sub_id_x, sub_id_y) in enumerate(zip(test_subject_list_x, test_subject_list_y)):\n",
        "\n",
        "    print(\"Test for session:\",sub_id_x)\n",
        "    # Check that data from session being merged\n",
        "    if sub_id_x != sub_id_y:\n",
        "      print('Error: Different sessions being merged')\n",
        "      print('X_session:', sub_id_x)\n",
        "      print('Y_session:', sub_id_y)\n",
        "      break\n",
        "\n",
        "    # Reading X data and time\n",
        "    X_data = pd.read_csv('{id}__x.csv'.format(id=sub_id_x), names=['x_acc','y_acc','z_acc','x_gyro','y_gyro','z_gyro'], header=None)\n",
        "    X_time = pd.read_csv('{id}__x_time.csv'.format(id=sub_id_x), names=['time'], header=None)\n",
        "    assert X_data.shape[0] == X_time.shape[0], \"X data does not match with X time\"\n",
        "\n",
        "    # Normalize meauserments\n",
        "    X_data = X_data.apply(lambda iterator: ((iterator - iterator.mean())/(iterator.std())).round(2))\n",
        "    \n",
        "    # Concatenating time with x features\n",
        "    X = pd.concat([X_data, X_time], axis=1)\n",
        "    X['session'] = sub_id_x\n",
        "    X['time'] = X['time'].apply(lambda x: datetime.datetime.fromtimestamp(x))\n",
        "    X = X.set_index('time')\n",
        "\n",
        "    # Reading Y time\n",
        "    Y_time = pd.read_csv('{id}__y_time.csv'.format(id=sub_id_y),names=['time'],header=None)\n",
        "\n",
        "    # Concatenating time with y labels\n",
        "    Y_time = Y_time + 0.005\n",
        "    Y = pd.concat([Y_time],axis=1)\n",
        "    Y['time'] = Y['time'].apply(lambda x: datetime.datetime.fromtimestamp(x))\n",
        "    Y = Y.set_index('time')\n",
        "    \n",
        "    # Upsampling label data to match spatial data frequency\n",
        "    Y = Y.resample('25L').asfreq()\n",
        "    merged_df = X.join(Y, how='inner')\n",
        "\n",
        "    # Data Reshaping for conv1d layer input\n",
        "    data_reshape = data_prep_test(60,4,merged_df)\n",
        "    print(data_reshape.shape)\n",
        "\n",
        "    # Creating test dataset and data loader\n",
        "    test_dataset = dataset_test(data_reshape)\n",
        "    test_loader = torch.utils.data.DataLoader(dataset = test_dataset, batch_size=batch_size, num_workers=0)\n",
        "\n",
        "    # Generating predicitons through model\n",
        "    preds = []\n",
        "    model.eval()\n",
        "    with torch.no_grad():\n",
        "      for data_test in test_loader:\n",
        "        data_test = data_test.to(device)\n",
        "        pred_test = model(data_test)\n",
        "        _, pred_test = torch.max(pred_test,axis=1)\n",
        "        preds.extend(pred_test.tolist()) \n",
        "\n",
        "    # Generating final predictions by repeating first 15 predicitions\n",
        "    preds = [preds[0]]*15 + preds\n",
        "\n",
        "    # Saving predictions to repective csv\n",
        "    pd.DataFrame(preds).to_csv('/content/drive/Shared drives/Colab Work/'+sub_id_x+'__y.csv', index=False, header=False)"
      ]
    },
    {
      "cell_type": "code",
      "source": [],
      "metadata": {
        "id": "aJq3sZvLMzuj"
      },
      "execution_count": null,
      "outputs": []
    }
  ],
  "metadata": {
    "colab": {
      "provenance": [],
      "gpuType": "T4"
    },
    "kernelspec": {
      "display_name": "Python 3",
      "name": "python3"
    },
    "language_info": {
      "name": "python"
    },
    "accelerator": "GPU"
  },
  "nbformat": 4,
  "nbformat_minor": 0
}